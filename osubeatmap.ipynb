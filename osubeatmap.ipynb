{
 "cells": [
  {
   "cell_type": "code",
   "execution_count": 100,
   "metadata": {},
   "outputs": [],
   "source": [
    "import requests\n",
    "from bs4 import BeautifulSoup\n",
    "import json\n",
    "import pandas as pd\n",
    "osulist = []\n",
    "for i in range(1,11): #1-10頁\n",
    "    url = 'https://old.ppy.sh/p/beatmaplist?l=1&r=0&q=&g=0&la=0&ra=&s=4&o=1&m=-1&page={}'.format(i)\n",
    "    osuhtml = requests.get(url)\n",
    "    soup = BeautifulSoup(osuhtml.text,'lxml')\n",
    "    data = soup.find('div','beatmapListing')\n",
    "    items = data.select('.maintext')\n",
    "    count = -1 \n",
    "    for item in items:\n",
    "        count += 1\n",
    "        song_title = item.find('a').text #歌名\n",
    "        song_artist = item.find('span').text #作曲者\n",
    "        song_link = 'https://osu.ppy.sh/' + item.find('a')['href'] #連結\n",
    "        mapper = data.select('.left-aligned')[count].find('a').text #圖譜創作者\n",
    "    \n",
    "        osudata = pd.DataFrame([{'title':song_title,'artist':song_artist,'link':song_link,'mapper':mapper}])\n",
    "        \n",
    "        osulist.append(osudata)\n",
    "df = pd.concat(osulist,ignore_index=True)\n",
    "df.to_excel('osu_beatmap_list.xlsx',index=0) #寫入excel\n",
    "        "
   ]
  }
 ],
 "metadata": {
  "kernelspec": {
   "display_name": "Python 3",
   "language": "python",
   "name": "python3"
  },
  "language_info": {
   "codemirror_mode": {
    "name": "ipython",
    "version": 3
   },
   "file_extension": ".py",
   "mimetype": "text/x-python",
   "name": "python",
   "nbconvert_exporter": "python",
   "pygments_lexer": "ipython3",
   "version": "3.7.6"
  }
 },
 "nbformat": 4,
 "nbformat_minor": 4
}
